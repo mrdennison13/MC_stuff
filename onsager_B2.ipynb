{
 "cells": [
  {
   "cell_type": "markdown",
   "metadata": {},
   "source": [
    "<center><h1>Calculating the second virial coefficient ... </h1></center>\n",
    "<center><h2>... or the importance of vectorizing </h2></center>"
   ]
  },
  {
   "cell_type": "markdown",
   "metadata": {},
   "source": [
    "We want to calculate the second virial coefficient for a system of hard spherocylinders using Monte Carlo integration.\n",
    "\n",
    "We shall start by coding this in as we would if we were using C or Fortran.\n",
    "\n",
    "First, we import some libraries/modules"
   ]
  },
  {
   "cell_type": "code",
   "execution_count": 1,
   "metadata": {
    "collapsed": true
   },
   "outputs": [],
   "source": [
    "import numpy as np                     #we always need arrays\n",
    "import pandas as pd                    #we want to put our results in a table\n",
    "import matplotlib.pyplot as plt        #and we wouldn't mind plotting them\n",
    "from scipy.optimize import brentq      #we will need to find the root of a function\n",
    "import time                            #and of course, we want to time everything"
   ]
  },
  {
   "cell_type": "markdown",
   "metadata": {},
   "source": [
    "We now need to define a few functions: the following two are used to find the value of alpha for a given nematic order parameter"
   ]
  },
  {
   "cell_type": "code",
   "execution_count": 2,
   "metadata": {
    "collapsed": true
   },
   "outputs": [],
   "source": [
    "def nematic_orderparam(alpha, S2):\n",
    "    \"\"\"Function to calculate the nematic order parameter for a given alpha, minus a guess\"\"\"\n",
    "    return 1.0 + 3.0/(alpha*alpha) - 3.0/(alpha*np.tanh(alpha))-S2"
   ]
  },
  {
   "cell_type": "code",
   "execution_count": 3,
   "metadata": {
    "collapsed": true
   },
   "outputs": [],
   "source": [
    "def find_alpha(S2):\n",
    "    \"\"\"Function to find the alpha for a given nematic order parameter\"\"\"\n",
    "    return brentq(nematic_orderparam, 1e-10, 2e3, args = (S2))"
   ]
  },
  {
   "cell_type": "markdown",
   "metadata": {},
   "source": [
    "Now we define three functions to generate a unit vector for three different systems:\n",
    " - iso: the isotropic phase, where the particles point in each direction with equal chance\n",
    " - nem: a perfectly aligned nematic phase, where all the particles point straight up\n",
    " - onsager: generates a unit vector from the Onsager distribution function, for a given nematic order parameter"
   ]
  },
  {
   "cell_type": "code",
   "execution_count": 4,
   "metadata": {
    "collapsed": true
   },
   "outputs": [],
   "source": [
    "def iso():\n",
    "    \"\"\"Generate a unit vector for a particle in the isotropic phase\"\"\"\n",
    "    u = np.empty(3)\n",
    "    u[2] = np.random.uniform()\n",
    "    x = twopi*np.random.uniform()\n",
    "    fac = np.sqrt(1.0-u[2]*u[2])\n",
    "    u[0] = fac*np.cos(x)\n",
    "    u[1] = fac*np.sin(x)\n",
    "    return u"
   ]
  },
  {
   "cell_type": "code",
   "execution_count": 5,
   "metadata": {
    "collapsed": true
   },
   "outputs": [],
   "source": [
    "def nem():\n",
    "    \"\"\"Generate a unit vector for a particle in a perfectly aligned nematic phase\"\"\"\n",
    "    u = np.zeros(3)\n",
    "    u[2] = 1.0\n",
    "    return u"
   ]
  },
  {
   "cell_type": "code",
   "execution_count": 6,
   "metadata": {
    "collapsed": true
   },
   "outputs": [],
   "source": [
    "def onsager(S2, alpha, sh_alpha):\n",
    "    \"\"\"Generate a unit vector from the Onsage trial function for a given nematic order parameter S2\"\"\"\n",
    "    u = np.empty(3)\n",
    "    x = np.random.uniform()*sh_alpha\n",
    "    u[2] = np.log(x + np.sqrt(1.0 + x*x))/alpha\n",
    "    x = twopi*np.random.uniform()\n",
    "    fac = np.sqrt(1.0-u[2]*u[2])\n",
    "    u[0] = fac*np.cos(x)\n",
    "    u[1] = fac*np.sin(x)\n",
    "    return u"
   ]
  },
  {
   "cell_type": "markdown",
   "metadata": {},
   "source": [
    "And we also define a function to test for overlaps between particles"
   ]
  },
  {
   "cell_type": "code",
   "execution_count": 7,
   "metadata": {
    "collapsed": true
   },
   "outputs": [],
   "source": [
    "def overlap(sep,ui,uj):\n",
    "    \"\"\"Test for overlaps between two spherocylinders: returns True if they do\"\"\"\n",
    "    over = False\n",
    "    rui   = np.sum(sep*ui)\n",
    "    ruj   = np.sum(sep*uj)\n",
    "    uij   = np.sum(ui*uj)\n",
    "    sinsq = 1.0 - np.sum(uij*uij)\n",
    "    if sinsq < 1e-14:\n",
    "        ci = -rui*0.5\n",
    "        cj = ruj*0.5\n",
    "    else:\n",
    "        ci = (-rui+uij*ruj)/sinsq\n",
    "        cj = (ruj-uij*rui)/sinsq\n",
    "    if np.maximum(np.absolute(ci), np.absolute(cj)) >= xld2:\n",
    "        if np.absolute(ci) >= np.absolute(cj):\n",
    "            ci = xld2*np.sign(ci)\n",
    "            cj = ruj + ci*uij\n",
    "        else:\n",
    "            cj = xld2*np.sign(cj)\n",
    "            ci = -rui + cj*uij\n",
    "        if np.absolute(ci) > xld2:\n",
    "            ci = xld2*np.sign(ci)\n",
    "        if np.absolute(cj) > xld2:\n",
    "            cj = xld2*np.sign(cj)\n",
    "    di = 2.0*rui  + ci-cj*uij\n",
    "    dj = -2.0*ruj + cj-ci*uij\n",
    "    sepsq = np.sum(sep*sep)\n",
    "    if sepsq + ci*di + cj*dj < 1.0:\n",
    "        over = True\n",
    "    return over"
   ]
  },
  {
   "cell_type": "markdown",
   "metadata": {},
   "source": [
    "And finally we need a function that calculates the value of the virial coefficients.\n",
    "\n",
    " - We set a number of S2 values that we want to study (n_points values, ranging from 0 to 1 in equally spaced steps).\n",
    " - We also set the number of configurations we will generate. This is split into batches.\n",
    " - The funciton returns a dictionary containing the order parameters, the values for the virials and the errors"
   ]
  },
  {
   "cell_type": "code",
   "execution_count": 8,
   "metadata": {
    "collapsed": true
   },
   "outputs": [],
   "source": [
    "def onsager_B2(n_batch,n_trial, n_points):\n",
    "    \"\"\"Calculate the nematic order parameter using n_batch*n_trial configurations, for n_points order parameters\"\"\"\n",
    "    rmax = 2.0*xld2 + 1.0\n",
    "    fac = 4.0*rmax*rmax*rmax\n",
    "    r1 = np.zeros(3)\n",
    "    u1 = np.zeros(3)\n",
    "    u2 = np.zeros(3)\n",
    "    output = {}\n",
    "    output['S2'] = np.zeros(n_points)\n",
    "    output['B2'] = np.zeros(n_points)\n",
    "    output['error'] = np.zeros(n_points)\n",
    "    for i_s in range(n_points):\n",
    "        S2 = i_s/(n_points-1)\n",
    "        if S2 < 1.0 and S2 > 0.0:\n",
    "            alpha = find_alpha(S2)\n",
    "            sh_alpha = np.sinh(alpha)\n",
    "        B2 = 0.0\n",
    "        B2sq  = 0.0\n",
    "        error = 0.0\n",
    "        for ib in range(n_batch):\n",
    "            B2_sub = 0.0\n",
    "            n_over = 0.0\n",
    "            for it in range(n_trial):\n",
    "                r2 = np.random.uniform(-rmax,rmax,3)\n",
    "                if S2 < 1e-10:\n",
    "                    u1 = iso()\n",
    "                    u2 = iso()\n",
    "                elif S2 > 1.0-1e-10:\n",
    "                    u1 = nem()\n",
    "                    u2 = nem()\n",
    "                else:\n",
    "                    u1 = onsager(S2, alpha, sh_alpha)\n",
    "                    u2 = onsager(S2, alpha, sh_alpha)\n",
    "                if overlap(r2-r1, u1, u2):\n",
    "                    n_over += 1.0\n",
    "            B2_sub = n_over/n_trial\n",
    "            B2    += B2_sub\n",
    "            B2sq  += B2_sub*B2_sub\n",
    "        B2 = B2/n_batch\n",
    "        B2sq = B2sq/n_batch\n",
    "        error = np.sqrt((B2sq-B2*B2)/(n_batch-1))\n",
    "        output['S2'][i_s] =  S2\n",
    "        output['B2'][i_s] =  B2*fac\n",
    "        output['error'][i_s] =  error*fac\n",
    "        print(output['S2'][i_s] ,output['B2'][i_s] ,output['error'][i_s] )\n",
    "    return output\n"
   ]
  },
  {
   "cell_type": "markdown",
   "metadata": {},
   "source": [
    "And now we run it all. We take the time before and after to measure performance. \n",
    "\n",
    "We will look at spherocylinders with L/D = 5, which means the parameter xld2 = L/2 = 2.5"
   ]
  },
  {
   "cell_type": "code",
   "execution_count": 9,
   "metadata": {},
   "outputs": [
    {
     "name": "stdout",
     "output_type": "stream",
     "text": [
      "0.0 37.3464 0.959600102639\n",
      "0.05 35.9424 0.889015157888\n",
      "0.1 37.2168 0.928193982498\n",
      "0.15 36.3528 0.838818827834\n",
      "0.2 36.4824 0.90414921346\n",
      "0.25 34.776 0.879464615576\n",
      "0.3 37.8432 0.922397895808\n",
      "0.35 35.7696 0.860279830131\n",
      "0.4 36.6768 0.804412122681\n",
      "0.45 35.4024 0.83062853915\n",
      "0.5 34.7544 0.80108700222\n",
      "0.55 34.1712 0.792194695119\n",
      "0.6 32.7888 0.780266783908\n",
      "0.65 31.752 0.801351822684\n",
      "0.7 32.6808 0.822618931421\n",
      "0.75 30.6936 0.766447155\n",
      "0.8 28.6416 0.747813420419\n",
      "0.85 29.0952 0.771982219703\n",
      "0.9 26.028 0.690519577153\n",
      "0.95 24.408 0.68322357414\n",
      "1.0 17.7768 0.663324131414\n",
      "\n",
      "CPU time for loops in Python: 57.1723\n"
     ]
    }
   ],
   "source": [
    "twopi = 2.0*np.pi\n",
    "xld2 = 2.5\n",
    "t0 = time.clock()\n",
    "B2 = onsager_B2(200,200,21)\n",
    "output_table = pd.DataFrame(B2)\n",
    "output_table = output_table[[\"S2\", \"B2\", \"error\"]]\n",
    "#print(output_table)\n",
    "t1 = time.clock()\n",
    "print('')\n",
    "print('CPU time for loops in Python:', t1-t0)"
   ]
  },
  {
   "cell_type": "markdown",
   "metadata": {},
   "source": [
    "This took about 1 minute for 200*200 = 40,000 trial configurations. Not that fast.\n",
    "\n",
    "Now we will rewrite these functions to do as much of the computation as we can vector-wise. This makes it all much faster, since then more of the run takes place in the compiled C/Fortran code that this is all built on, rather than in python loops.\n"
   ]
  },
  {
   "cell_type": "code",
   "execution_count": 10,
   "metadata": {},
   "outputs": [],
   "source": [
    "def overlap_vector(sep,ui,uj,n_loop):\n",
    "    \"\"\"Function to test for overlaps between particles, takes n_loop configurations at once\"\"\"\n",
    "    rui   = np.sum(sep*ui,axis=1)\n",
    "    ruj   = np.sum(sep*uj,axis=1)\n",
    "    uij   = np.sum(ui*uj,axis=1)\n",
    "    sinsq = 1.0 - uij*uij\n",
    "    ci = np.empty(n_loop)\n",
    "    cj = np.empty(n_loop)\n",
    "    listings = sinsq < 1e-14\n",
    "    nlistings = ~listings\n",
    "    ci[listings] = -rui[listings]*0.5\n",
    "    cj[listings] = ruj[listings]*0.5\n",
    "    ci[nlistings] = (-rui[nlistings]+uij[nlistings]*ruj[nlistings])/sinsq[nlistings]\n",
    "    cj[nlistings] = (ruj[nlistings]-uij[nlistings]*rui[nlistings])/sinsq[nlistings]\n",
    "    listings = (np.maximum(np.absolute(ci), np.absolute(cj)) >= xld2) & (np.absolute(ci) >= np.absolute(cj))\n",
    "    ci[listings] = xld2*np.sign(ci[listings])\n",
    "    cj[listings] = ruj[listings] + ci[listings]*uij[listings]\n",
    "    listings = (np.maximum(np.absolute(ci), np.absolute(cj)) >= xld2) & (np.absolute(ci) < np.absolute(cj))\n",
    "    cj[listings] = xld2*np.sign(cj[listings])\n",
    "    ci[listings] = -rui[listings] + cj[listings]*uij[listings]\n",
    "    listings = (np.maximum(np.absolute(ci), np.absolute(cj)) >= xld2) &  (np.absolute(ci) > xld2)\n",
    "    ci[listings] = xld2*np.sign(ci[listings])\n",
    "    listings = (np.maximum(np.absolute(ci), np.absolute(cj)) >= xld2) &  (np.absolute(cj) > xld2)\n",
    "    cj[listings] = xld2*np.sign(cj[listings])\n",
    "    di = 2.0*rui  + ci-cj*uij\n",
    "    dj = -2.0*ruj + cj-ci*uij\n",
    "    sepsq = np.sum(sep*sep, axis=1)\n",
    "    over = sepsq + ci*di + cj*dj < 1.0\n",
    "    return over"
   ]
  },
  {
   "cell_type": "code",
   "execution_count": 11,
   "metadata": {
    "collapsed": true
   },
   "outputs": [],
   "source": [
    "def iso_vector(n_loop):\n",
    "    \"\"\"Generates n_loop unit vectors in the isotropic phase\"\"\"\n",
    "    u = np.empty((n_loop, 3))\n",
    "    u[:,2] = np.random.uniform(0,1,n_loop)\n",
    "    x = np.random.uniform(0,twopi,n_loop)\n",
    "    fac = np.sqrt(1.0-u[:,2]*u[:,2])\n",
    "    u[:,0] = fac*np.cos(x)\n",
    "    u[:,1] = fac*np.sin(x)\n",
    "    return u"
   ]
  },
  {
   "cell_type": "code",
   "execution_count": 12,
   "metadata": {
    "collapsed": true
   },
   "outputs": [],
   "source": [
    "def nem_vector(n_loop):\n",
    "    \"\"\"Generates n_loop unit vectors in the perfectly aligned nematic phase\"\"\"\n",
    "    u = np.zeros((n_loop, 3))\n",
    "    u[:,2] = 1.0\n",
    "    return u"
   ]
  },
  {
   "cell_type": "code",
   "execution_count": 13,
   "metadata": {
    "collapsed": true
   },
   "outputs": [],
   "source": [
    "def onsager_vector(S2, alpha, sh_alpha, n_loop):\n",
    "    \"\"\"Generates n_loop unit vectors from the Onsager trial function for a given nematic order parameter\"\"\"\n",
    "    u = np.empty((n_loop, 3))\n",
    "    x = np.random.uniform(0,sh_alpha,n_loop)\n",
    "    u[:,2] = np.log(x + np.sqrt(1.0 + x*x))/alpha\n",
    "    x = np.random.uniform(0,twopi,n_loop)\n",
    "    fac = np.sqrt(1.0-u[:,2]*u[:,2])\n",
    "    u[:,0] = fac*np.cos(x)\n",
    "    u[:,1] = fac*np.sin(x)\n",
    "    return u"
   ]
  },
  {
   "cell_type": "code",
   "execution_count": 14,
   "metadata": {},
   "outputs": [],
   "source": [
    "def onsager_B2_vectorized(n_loop, n_points):\n",
    "    \"\"\"Calculates the second virial coefficient, using n_loop configurations for each of the n_points values of S_nem\"\"\"\n",
    "    rmax = 2.0*xld2 + 1.0\n",
    "    fact = 4.0*rmax*rmax*rmax\n",
    "    output = {}\n",
    "    output['S2'] = np.zeros(n_points)\n",
    "    output['B2'] = np.zeros(n_points)\n",
    "    output['error'] = np.zeros(n_points)\n",
    "    B2_sub = np.empty(n_loop)\n",
    "    r1 = np.zeros(3)\n",
    "    for i_s in range(n_points):\n",
    "        r2 = np.random.uniform(-rmax,rmax,(n_loop,3))\n",
    "        S2 = i_s/(n_points-1)\n",
    "        if S2 < 1.0 and S2 > 0.0:\n",
    "            alpha = find_alpha(S2)\n",
    "            sh_alpha = np.sinh(alpha)\n",
    "        if S2 < 1e-10:\n",
    "            u1 = iso_vector(n_loop)\n",
    "            u2 = iso_vector(n_loop)\n",
    "        elif S2 > 1.0-1e-10:\n",
    "            u1 = nem_vector(n_loop)\n",
    "            u2 = nem_vector(n_loop)\n",
    "        else:\n",
    "            u1 = onsager_vector(S2, alpha, sh_alpha, n_loop)\n",
    "            u2 = onsager_vector(S2, alpha, sh_alpha, n_loop)\n",
    "        n_over = overlap_vector(r2-r1, u1, u2, n_loop)\n",
    "       # n_over = np.zeros(n_loop)\n",
    "       # for i in range(n_loop):\n",
    "       #     if overlap(r2[i,:]-r1[:], u1[i,:], u2[i,:]):\n",
    "       #         n_over[i] += 1.0\n",
    "        #print(np.sum(n_over), (u1*u1).sum(axis))\n",
    "        B2 = fact*np.sum(n_over)/n_loop\n",
    "        error = fact*n_over.std()/np.sqrt(n_loop-1)\n",
    "        output['S2'][i_s] =  S2\n",
    "        output['B2'][i_s] =  B2\n",
    "        output['error'][i_s] =  error\n",
    "        print(output['S2'][i_s] ,output['B2'][i_s] ,output['error'][i_s] )\n",
    "    return output"
   ]
  },
  {
   "cell_type": "markdown",
   "metadata": {},
   "source": [
    "Now we run it all. Before we set n_trial = n_batch = 200, giving 200*200 = 40,000 configurations.\n",
    "\n",
    "Now we will use n_loop = 2000*2000 = 4,000,000 configurations"
   ]
  },
  {
   "cell_type": "code",
   "execution_count": 15,
   "metadata": {},
   "outputs": [
    {
     "name": "stdout",
     "output_type": "stream",
     "text": [
      "0.0 37.371456 0.0878810559556\n",
      "0.05 37.365192 0.0878740235175\n",
      "0.1 37.414872 0.0879297795017\n",
      "0.15 37.064304 0.0875354266675\n",
      "0.2 36.869472 0.0873153386674\n",
      "0.25 36.791064 0.0872265792552\n",
      "0.3 36.316728 0.08668730555\n",
      "0.35 35.936568 0.0862521960182\n",
      "0.4 35.56008 0.0858187001697\n",
      "0.45 34.999992 0.0851689510646\n",
      "0.5 34.311816 0.0843624848849\n",
      "0.55 33.67332 0.0836060150201\n",
      "0.6 33.04476 0.0828533694867\n",
      "0.65 32.091336 0.0816961858534\n",
      "0.7 31.266864 0.080679861522\n",
      "0.75 30.120552 0.0792415856013\n",
      "0.8 28.882008 0.0776528984582\n",
      "0.85 27.567432 0.0759248044211\n",
      "0.9 25.839432 0.0735826039501\n",
      "0.95 23.4954 0.0702637828398\n",
      "1.0 17.741376 0.0612653984625\n",
      "\n",
      "CPU time for vectorized method: 59.753550999999995\n"
     ]
    }
   ],
   "source": [
    "twopi = 2.0*np.pi\n",
    "xld2 = 2.5\n",
    "t0 = time.clock()\n",
    "B2_vec = onsager_B2_vectorized(2000*2000,21)\n",
    "output_table_vec = pd.DataFrame(B2_vec)\n",
    "output_table_vec = output_table_vec[[\"S2\", \"B2\", \"error\"]]\n",
    "#print(output_table_vec)\n",
    "t1 = time.clock()\n",
    "print('')\n",
    "print('CPU time for vectorized method:', t1-t0)"
   ]
  },
  {
   "cell_type": "markdown",
   "metadata": {},
   "source": [
    "We acheived a similar time of 1minute, but we generated 100x more trial configurations (which means that the error on our result is 10 times smaller).\n",
    "\n",
    "We now plot the two results, from which the reduction in the error should be visible."
   ]
  },
  {
   "cell_type": "code",
   "execution_count": 16,
   "metadata": {},
   "outputs": [
    {
     "data": {
      "image/png": "[encoded data removed]",
      "text/plain": [
       "<matplotlib.figure.Figure at 0x116de5828>"
      ]
     },
     "metadata": {},
     "output_type": "display_data"
    }
   ],
   "source": [
    "plt.errorbar(output_table.S2, output_table.B2, output_table.error, color = \"red\", label=\"original\", marker = \".\", markersize='10', elinewidth=2)\n",
    "plt.errorbar(output_table_vec.S2, output_table_vec.B2, output_table_vec.error, color=\"blue\", label = \"vectorized\", marker = \".\", markersize='10', elinewidth=2)\n",
    "plt.legend(loc=\"lower left\")\n",
    "plt.xlabel(\"S2\")\n",
    "plt.ylabel(\"B2\")\n",
    "plt.margins(0.02)\n",
    "plt.title(\"B2 vs S2: after 1 minute computation time\")\n",
    "plt.show()"
   ]
  },
  {
   "cell_type": "markdown",
   "metadata": {},
   "source": [
    "Of course, the method using loops can be coded in in Fortran, and will run 3.5 times faster than above (so will reduce the error still further, by about a factor of 1.9, for the same computing time. But, if we do want to use python, vectorizing is the way to go.\n",
    "\n",
    "Let's finish by adding our Fortran result to the plot"
   ]
  },
  {
   "cell_type": "code",
   "execution_count": 19,
   "metadata": {},
   "outputs": [
    {
     "data": {
      "image/png": "[encoded data removed]",
      "text/plain": [
       "<matplotlib.figure.Figure at 0x106971160>"
      ]
     },
     "metadata": {},
     "output_type": "display_data"
    }
   ],
   "source": [
    "fortran_result=pd.read_csv(\"B2_L5d0_D1d0-race-csv.dat\", header=None, names=[\"S2\", \"alpha\", \"B2\", \"error\"])\n",
    "plt.errorbar(output_table.S2, output_table.B2, output_table.error, color = \"red\", label=\"original\", marker = \".\", markersize='10', elinewidth=2)\n",
    "plt.errorbar(output_table_vec.S2, output_table_vec.B2, output_table_vec.error, color=\"blue\", label = \"vectorized\", marker = \".\", markersize='10', elinewidth=2)\n",
    "plt.errorbar(fortran_result.S2, fortran_result.B2, fortran_result.error, color=\"green\", label = \"fortran\", marker = \".\", markersize='10', elinewidth=2)\n",
    "plt.legend(loc=\"lower left\")\n",
    "plt.xlabel(\"S2\")\n",
    "plt.ylabel(\"B2\")\n",
    "plt.margins(0.02)\n",
    "plt.title(\"B2 vs S2: after 1 minute computation time\")\n",
    "plt.show()"
   ]
  },
  {
   "cell_type": "code",
   "execution_count": 23,
   "metadata": {},
   "outputs": [
    {
     "data": {
      "image/png": "[encoded data removed]",
      "text/plain": [
       "<matplotlib.figure.Figure at 0x116e53a20>"
      ]
     },
     "metadata": {},
     "output_type": "display_data"
    }
   ],
   "source": [
    "plt.scatter(output_table.S2, (output_table.error/output_table.B2)*100.0, color = \"red\", label=\"original\", marker = \".\")\n",
    "plt.scatter(output_table_vec.S2, (output_table_vec.error/output_table_vec.B2)*100.0, color=\"blue\", label = \"vectorized\", marker = \".\")\n",
    "plt.scatter(fortran_result.S2, (fortran_result.error/fortran_result.B2)*100.0, color=\"green\", label = \"fortran\", marker = \".\")\n",
    "plt.legend(loc=\"center right\")\n",
    "plt.xlabel(\"S2\")\n",
    "plt.ylabel(\"error (%)\")\n",
    "plt.margins(0.02)\n",
    "plt.title(\"% error in B2 vs S2: after 1 minute computation time\")\n",
    "plt.show()"
   ]
  },
  {
   "cell_type": "code",
   "execution_count": null,
   "metadata": {
    "collapsed": true
   },
   "outputs": [],
   "source": []
  }
 ],
 "metadata": {
  "kernelspec": {
   "display_name": "Python 3",
   "language": "python",
   "name": "python3"
  },
  "language_info": {
   "codemirror_mode": {
    "name": "ipython",
    "version": 3
   },
   "file_extension": ".py",
   "mimetype": "text/x-python",
   "name": "python",
   "nbconvert_exporter": "python",
   "pygments_lexer": "ipython3",
   "version": "3.5.2"
  }
 },
 "nbformat": 4,
 "nbformat_minor": 2
}
